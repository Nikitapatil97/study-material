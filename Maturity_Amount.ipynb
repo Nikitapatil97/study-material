{
  "nbformat": 4,
  "nbformat_minor": 0,
  "metadata": {
    "colab": {
      "name": "Maturity_Amount.ipynb",
      "provenance": []
    },
    "kernelspec": {
      "name": "python3",
      "display_name": "Python 3"
    },
    "language_info": {
      "name": "python"
    }
  },
  "cells": [
    {
      "cell_type": "code",
      "metadata": {
        "colab": {
          "base_uri": "https://localhost:8080/"
        },
        "id": "PkfXxM-UFGZt",
        "outputId": "a3a9169b-ac73-44b7-e8e8-f67c44cf3bb7"
      },
      "source": [
        "def input_valid_data():\n",
        "    while True:\n",
        "        \n",
        "        try:\n",
        "            dep_amt=int(input(\"dep amount\"))\n",
        "            break\n",
        "        except ValueError:\n",
        "            print(\"Alphabets are not alowed here\")\n",
        "        except:\n",
        "            print(\"Unknow error\")\n",
        "        \n",
        "        \n",
        "    print(\"############ 1st while complete###############\")\n",
        "    \n",
        "    while True:\n",
        "        try:\n",
        "            int_rate=float(input(\"int rate\"))\n",
        "            print(int_rate)\n",
        "            if int_rate <2 or int_rate > 8:\n",
        "                raise Exception()\n",
        "            else:\n",
        "                break\n",
        "                \n",
        "        except ValueError:\n",
        "            print(\"Alphabets are not allowed\")\n",
        "        except Exception:\n",
        "            print(\"interest rate should be in 3 to 8\")\n",
        "        except:\n",
        "            print(\"Unknown error\")\n",
        "            \n",
        "    if dep_amt >=10000000 and (int_rate>=2 and int_rate<=4):\n",
        "            print(\"Bulk FD open\")\n",
        "            mat_amt = dep_amt+((dep_amt*int_rate)/100)\n",
        "            print(\"Maturity amount is: \",mat_amt,\"RS.\")\n",
        "    \n",
        "    elif dep_amt<10000000 and (int_rate>=6 and int_rate<=8):\n",
        "            print(\"normal FD opened\")\n",
        "            mat_amt = dep_amt+((dep_amt*int_rate)/100)\n",
        "            print(\"Maturity amount is: \",mat_amt,\"RS.\")\n",
        "    \n",
        "    else:\n",
        "            print(\"FD amount is not matching with interest rate bucket\")\n",
        "            mat_amt=0\n",
        "            print(\"Maturity amount is: \",mat_amt,\"RS.\")\n",
        "\n",
        "\n",
        "input_valid_data()\n"
      ],
      "execution_count": 1,
      "outputs": [
        {
          "output_type": "stream",
          "text": [
            "dep amount160000\n",
            "############ 1st while complete###############\n",
            "int rate1.5\n",
            "1.5\n",
            "interest rate should be in 3 to 8\n",
            "int rate3\n",
            "3.0\n",
            "FD amount is not matching with interest rate bucket\n",
            "Maturity amount is:  0 RS.\n"
          ],
          "name": "stdout"
        }
      ]
    }
  ]
}